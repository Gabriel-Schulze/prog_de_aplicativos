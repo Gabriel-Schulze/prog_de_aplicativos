{
 "cells": [
  {
   "cell_type": "code",
   "execution_count": 15,
   "metadata": {},
   "outputs": [
    {
     "name": "stdout",
     "output_type": "stream",
     "text": [
      "Olá, meu nome é Gabriel Eduardo e tenho 23 anos\n"
     ]
    }
   ],
   "source": [
    "def print_infos(nome,idade):\n",
    "    a = \"Olá, meu nome é %s e tenho %d anos\" % (nome,idade)\n",
    "    print(a)\n",
    "\n",
    "print_infos(idade=23,nome=\"Gabriel Eduardo\")"
   ]
  }
 ],
 "metadata": {
  "kernelspec": {
   "display_name": "base",
   "language": "python",
   "name": "python3"
  },
  "language_info": {
   "codemirror_mode": {
    "name": "ipython",
    "version": 3
   },
   "file_extension": ".py",
   "mimetype": "text/x-python",
   "name": "python",
   "nbconvert_exporter": "python",
   "pygments_lexer": "ipython3",
   "version": "3.8.8"
  }
 },
 "nbformat": 4,
 "nbformat_minor": 2
}
