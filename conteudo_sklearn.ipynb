{
 "cells": [
  {
   "cell_type": "code",
   "execution_count": 224,
   "metadata": {},
   "outputs": [],
   "source": [
    "import pandas as pd\n",
    "from sklearn.model_selection import train_test_split\n",
    "from sklearn.tree import DecisionTreeClassifier"
   ]
  },
  {
   "cell_type": "code",
   "execution_count": 225,
   "metadata": {},
   "outputs": [],
   "source": [
    "caminho_arquivo = r\"C:\\Users\\gabriel_e_machado\\Documents\\Programação de aplicativos\\Frutas.xlsx\"\n",
    "\n",
    "df_frutas = pd.read_excel(caminho_arquivo)"
   ]
  },
  {
   "cell_type": "code",
   "execution_count": 226,
   "metadata": {},
   "outputs": [],
   "source": [
    "df_frutas = df_frutas[\"Fruta     Cor        Gosto      Formato    Casca\"].str.split(expand=True)"
   ]
  },
  {
   "cell_type": "code",
   "execution_count": 227,
   "metadata": {},
   "outputs": [],
   "source": [
    "df_frutas.columns = [\"Frutas\",\"Cor\",\"Sabor\",\"Formato\",\"Textura\"]"
   ]
  },
  {
   "cell_type": "code",
   "execution_count": 228,
   "metadata": {},
   "outputs": [],
   "source": [
    "x = df_frutas[[\"Cor\", \"Sabor\", \"Formato\",\"Textura\"]]\n",
    "y = df_frutas[\"Frutas\"]"
   ]
  },
  {
   "cell_type": "code",
   "execution_count": 229,
   "metadata": {},
   "outputs": [],
   "source": [
    "mapeamento_cor = {\n",
    "    \"Verde\": 0,\n",
    "    \"Amarelo\": 1,\n",
    "    \"Marrom\": 2\n",
    "}\n",
    "\n",
    "mapeamento_sabor = {\n",
    "    \"Azedo\": 0,\n",
    "    \"Doce\": 1\n",
    "}\n",
    "\n",
    "mapeamento_formato = {\n",
    "    \"Oval\": 0,\n",
    "    \"Curvado\": 1,\n",
    "    \"Alongado\": 2\n",
    "}\n",
    "\n",
    "mapeamento_textura = {\n",
    "    \"Liso\": 0,\n",
    "    \"Peludo\": 1\n",
    "}"
   ]
  },
  {
   "cell_type": "code",
   "execution_count": null,
   "metadata": {},
   "outputs": [],
   "source": [
    "x[\"Cor\"] = x[\"Cor\"].map(mapeamento_cor)\n",
    "x[\"Sabor\"] = x[\"Sabor\"].map(mapeamento_sabor)\n",
    "x[\"Formato\"] = x[\"Formato\"].map(mapeamento_formato)\n",
    "x[\"Textura\"] = x[\"Textura\"].map(mapeamento_textura)"
   ]
  },
  {
   "cell_type": "code",
   "execution_count": 231,
   "metadata": {},
   "outputs": [],
   "source": [
    "x_train,x_test,y_train,y_test = train_test_split(x,y,test_size=0.3,random_state=37)\n",
    "\n",
    "modelo = DecisionTreeClassifier()\n",
    "modelo.fit(x_train,y_train)\n",
    "\n",
    "previsoes = modelo.predict(x_test)"
   ]
  },
  {
   "cell_type": "code",
   "execution_count": 232,
   "metadata": {},
   "outputs": [],
   "source": [
    "caminho_arquivo2 = r\"C:\\Users\\gabriel_e_machado\\Documents\\Programação de aplicativos\\Frutas2.xlsx\"\n",
    "\n",
    "df_frutas2 = pd.read_excel(caminho_arquivo2)"
   ]
  },
  {
   "cell_type": "code",
   "execution_count": 233,
   "metadata": {},
   "outputs": [],
   "source": [
    "df_frutas2[\"Cor\"] = df_frutas2[\"Cor\"].map(mapeamento_cor)\n",
    "df_frutas2[\"Sabor\"] = df_frutas2[\"Sabor\"].map(mapeamento_sabor)\n",
    "df_frutas2[\"Formato\"] = df_frutas2[\"Formato\"].map(mapeamento_formato)\n",
    "df_frutas2[\"Textura\"] = df_frutas2[\"Textura\"].map(mapeamento_textura)"
   ]
  },
  {
   "cell_type": "code",
   "execution_count": 235,
   "metadata": {},
   "outputs": [
    {
     "data": {
      "text/plain": [
       "array(['Banana', 'Kiwi', 'Banana', 'Kiwi'], dtype=object)"
      ]
     },
     "execution_count": 235,
     "metadata": {},
     "output_type": "execute_result"
    }
   ],
   "source": [
    "previsoes_novo_dados = modelo.predict(df_frutas2)\n",
    "\n",
    "previsoes_novo_dados"
   ]
  }
 ],
 "metadata": {
  "kernelspec": {
   "display_name": "base",
   "language": "python",
   "name": "python3"
  },
  "language_info": {
   "codemirror_mode": {
    "name": "ipython",
    "version": 3
   },
   "file_extension": ".py",
   "mimetype": "text/x-python",
   "name": "python",
   "nbconvert_exporter": "python",
   "pygments_lexer": "ipython3",
   "version": "3.8.8"
  }
 },
 "nbformat": 4,
 "nbformat_minor": 2
}
