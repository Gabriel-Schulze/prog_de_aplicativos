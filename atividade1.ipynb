{
 "cells": [
  {
   "cell_type": "code",
   "execution_count": null,
   "metadata": {},
   "outputs": [],
   "source": [
    "import pandas as pd\n",
    "import numpy as np\n",
    "import openpyxl"
   ]
  },
  {
   "cell_type": "code",
   "execution_count": null,
   "metadata": {},
   "outputs": [],
   "source": [
    "num_rows = 50\n",
    "\n",
    "data = {\n",
    "    \"Produto\": [f\"Produto_{i}\" for i in range(1, num_rows +1)],\n",
    "    \"Categoria\": np.random.choice([\"Televisão\",\"Computador\",\"Celular\",\"Tablet\", \"Impressora\"], size=num_rows),\n",
    "    \"Preço\": np.random.uniform(100.0,2000.0,size=num_rows).round(2),\n",
    "    \"Quantidade_Vendida\": np.random.randint(1,50,size=num_rows)\n",
    "}\n",
    "\n",
    "df = pd.DataFrame(data)"
   ]
  },
  {
   "cell_type": "code",
   "execution_count": null,
   "metadata": {},
   "outputs": [],
   "source": [
    "df[\"Total\"] = df[\"Preço\"] * df[\"Quantidade_Vendida\"]"
   ]
  },
  {
   "cell_type": "code",
   "execution_count": null,
   "metadata": {},
   "outputs": [],
   "source": [
    "def multiplica_preco_qtd(x):\n",
    "    return x[\"Quantidade_Vendida\"] * x[\"Preço\"]\n",
    "\n",
    "df[\"Total\"] = df.apply(multiplica_preco_qtd, axis=1)\n"
   ]
  },
  {
   "cell_type": "code",
   "execution_count": null,
   "metadata": {},
   "outputs": [],
   "source": [
    "df[\"Total\"].min()\n",
    "df[\"Total\"].max()\n",
    "df[\"Total\"].std()\n",
    "df[\"Total\"].median()"
   ]
  },
  {
   "cell_type": "code",
   "execution_count": null,
   "metadata": {},
   "outputs": [],
   "source": [
    "df_filtrada = df[df[\"Categoria\"] == \"Computador\"]"
   ]
  },
  {
   "cell_type": "code",
   "execution_count": null,
   "metadata": {},
   "outputs": [],
   "source": [
    "df_filtrada2 = df[(df[\"Categoria\"] == \"Computador\") & (df[\"Preço\"] > 500)]"
   ]
  },
  {
   "cell_type": "code",
   "execution_count": null,
   "metadata": {},
   "outputs": [],
   "source": [
    "df_filtrada3 = df[(df[\"Quantidade_Vendida\"] > 40) | (df[\"Categoria\"] == \"Impressora\")]"
   ]
  },
  {
   "cell_type": "code",
   "execution_count": null,
   "metadata": {},
   "outputs": [],
   "source": [
    "caminho = r\"C:\\Users\\gabriel_e_machado\\Desktop\\atividade.xlsx\"\n",
    "\n",
    "df.to_excel(caminho)"
   ]
  }
 ],
 "metadata": {
  "kernelspec": {
   "display_name": "base",
   "language": "python",
   "name": "python3"
  },
  "language_info": {
   "codemirror_mode": {
    "name": "ipython",
    "version": 3
   },
   "file_extension": ".py",
   "mimetype": "text/x-python",
   "name": "python",
   "nbconvert_exporter": "python",
   "pygments_lexer": "ipython3",
   "version": "3.8.8"
  }
 },
 "nbformat": 4,
 "nbformat_minor": 2
}
